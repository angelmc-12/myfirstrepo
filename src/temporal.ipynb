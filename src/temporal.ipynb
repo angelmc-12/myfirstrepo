{
 "cells": [
  {
   "cell_type": "markdown",
   "metadata": {},
   "source": [
    "# Lectura de datos master y estructura"
   ]
  },
  {
   "cell_type": "code",
   "execution_count": 1,
   "metadata": {},
   "outputs": [],
   "source": [
    "import pandas as pd\n",
    "import numpy as np\n",
    "import os\n",
    "import matplotlib.pyplot as plt\n",
    "from sklearn.tree import DecisionTreeClassifier\n",
    "from sklearn.metrics import precision_score,recall_score,f1_score,accuracy_score,roc_auc_score,roc_curve,log_loss,confusion_matrix"
   ]
  },
  {
   "cell_type": "code",
   "execution_count": 2,
   "metadata": {},
   "outputs": [],
   "source": [
    "path = '/home/angelmc/MyFirstDSProject'"
   ]
  },
  {
   "cell_type": "code",
   "execution_count": 4,
   "metadata": {},
   "outputs": [],
   "source": [
    "df = pd.read_csv(path+'/data/Dataset Endeudamiento Crediticio.csv',sep=';')"
   ]
  },
  {
   "cell_type": "code",
   "execution_count": 5,
   "metadata": {},
   "outputs": [
    {
     "data": {
      "text/html": [
       "<div>\n",
       "<style scoped>\n",
       "    .dataframe tbody tr th:only-of-type {\n",
       "        vertical-align: middle;\n",
       "    }\n",
       "\n",
       "    .dataframe tbody tr th {\n",
       "        vertical-align: top;\n",
       "    }\n",
       "\n",
       "    .dataframe thead th {\n",
       "        text-align: right;\n",
       "    }\n",
       "</style>\n",
       "<table border=\"1\" class=\"dataframe\">\n",
       "  <thead>\n",
       "    <tr style=\"text-align: right;\">\n",
       "      <th></th>\n",
       "      <th>ID</th>\n",
       "      <th>Default</th>\n",
       "      <th>Prct_uso_tc</th>\n",
       "      <th>Edad</th>\n",
       "      <th>Nro_prestao_retrasados</th>\n",
       "      <th>Prct_deuda_vs_ingresos</th>\n",
       "      <th>Mto_ingreso_mensual</th>\n",
       "      <th>Nro_prod_financieros_deuda</th>\n",
       "      <th>Nro_retraso_60dias</th>\n",
       "      <th>Nro_creditos_hipotecarios</th>\n",
       "      <th>Nro_retraso_ultm3anios</th>\n",
       "      <th>Nro_dependiente</th>\n",
       "    </tr>\n",
       "  </thead>\n",
       "  <tbody>\n",
       "    <tr>\n",
       "      <th>0</th>\n",
       "      <td>1</td>\n",
       "      <td>1</td>\n",
       "      <td>0.766127</td>\n",
       "      <td>45</td>\n",
       "      <td>2</td>\n",
       "      <td>0.802982</td>\n",
       "      <td>9120.0</td>\n",
       "      <td>13</td>\n",
       "      <td>0</td>\n",
       "      <td>6</td>\n",
       "      <td>0</td>\n",
       "      <td>2.0</td>\n",
       "    </tr>\n",
       "    <tr>\n",
       "      <th>1</th>\n",
       "      <td>2</td>\n",
       "      <td>0</td>\n",
       "      <td>0.957151</td>\n",
       "      <td>40</td>\n",
       "      <td>0</td>\n",
       "      <td>0.121876</td>\n",
       "      <td>2600.0</td>\n",
       "      <td>4</td>\n",
       "      <td>0</td>\n",
       "      <td>0</td>\n",
       "      <td>0</td>\n",
       "      <td>1.0</td>\n",
       "    </tr>\n",
       "    <tr>\n",
       "      <th>2</th>\n",
       "      <td>3</td>\n",
       "      <td>0</td>\n",
       "      <td>0.658180</td>\n",
       "      <td>38</td>\n",
       "      <td>1</td>\n",
       "      <td>0.085113</td>\n",
       "      <td>3042.0</td>\n",
       "      <td>2</td>\n",
       "      <td>1</td>\n",
       "      <td>0</td>\n",
       "      <td>0</td>\n",
       "      <td>0.0</td>\n",
       "    </tr>\n",
       "    <tr>\n",
       "      <th>3</th>\n",
       "      <td>4</td>\n",
       "      <td>0</td>\n",
       "      <td>0.233810</td>\n",
       "      <td>30</td>\n",
       "      <td>0</td>\n",
       "      <td>0.036050</td>\n",
       "      <td>3300.0</td>\n",
       "      <td>5</td>\n",
       "      <td>0</td>\n",
       "      <td>0</td>\n",
       "      <td>0</td>\n",
       "      <td>0.0</td>\n",
       "    </tr>\n",
       "    <tr>\n",
       "      <th>4</th>\n",
       "      <td>5</td>\n",
       "      <td>0</td>\n",
       "      <td>0.907239</td>\n",
       "      <td>49</td>\n",
       "      <td>1</td>\n",
       "      <td>0.024926</td>\n",
       "      <td>63588.0</td>\n",
       "      <td>7</td>\n",
       "      <td>0</td>\n",
       "      <td>1</td>\n",
       "      <td>0</td>\n",
       "      <td>0.0</td>\n",
       "    </tr>\n",
       "  </tbody>\n",
       "</table>\n",
       "</div>"
      ],
      "text/plain": [
       "   ID  Default  Prct_uso_tc  Edad  Nro_prestao_retrasados  \\\n",
       "0   1        1     0.766127    45                       2   \n",
       "1   2        0     0.957151    40                       0   \n",
       "2   3        0     0.658180    38                       1   \n",
       "3   4        0     0.233810    30                       0   \n",
       "4   5        0     0.907239    49                       1   \n",
       "\n",
       "   Prct_deuda_vs_ingresos  Mto_ingreso_mensual  Nro_prod_financieros_deuda  \\\n",
       "0                0.802982               9120.0                          13   \n",
       "1                0.121876               2600.0                           4   \n",
       "2                0.085113               3042.0                           2   \n",
       "3                0.036050               3300.0                           5   \n",
       "4                0.024926              63588.0                           7   \n",
       "\n",
       "   Nro_retraso_60dias  Nro_creditos_hipotecarios  Nro_retraso_ultm3anios  \\\n",
       "0                   0                          6                       0   \n",
       "1                   0                          0                       0   \n",
       "2                   1                          0                       0   \n",
       "3                   0                          0                       0   \n",
       "4                   0                          1                       0   \n",
       "\n",
       "   Nro_dependiente  \n",
       "0              2.0  \n",
       "1              1.0  \n",
       "2              0.0  \n",
       "3              0.0  \n",
       "4              0.0  "
      ]
     },
     "execution_count": 5,
     "metadata": {},
     "output_type": "execute_result"
    }
   ],
   "source": [
    "df.head()"
   ]
  },
  {
   "cell_type": "markdown",
   "metadata": {},
   "source": [
    "# Tratamiento de datos"
   ]
  },
  {
   "cell_type": "code",
   "execution_count": 5,
   "metadata": {},
   "outputs": [],
   "source": [
    "# Definiendo el target\n",
    "target = 'Default'\n",
    "# Definiendo las columnas que servirán para predecir el target\n",
    "columnas = list(set(df.columns) - set([target]))\n",
    "coltotal = columnas + [target]"
   ]
  },
  {
   "cell_type": "code",
   "execution_count": 6,
   "metadata": {},
   "outputs": [],
   "source": [
    "df_miss = pd.DataFrame({'count': df.isnull().sum(), 'percentage': df.isnull().mean()*100})\n",
    "df_miss.to_csv(path+'/reports/1st_missing_report.csv')"
   ]
  },
  {
   "cell_type": "code",
   "execution_count": 7,
   "metadata": {},
   "outputs": [],
   "source": [
    "def setTratamientoCotasSup(base,var_T,q):\n",
    "    p=base[var_T].quantile(q=q)\n",
    "    qq=(q+0.05) if (q+0.05<1) else q\n",
    "    base[f\"{var_T}\"]=base[var_T].apply(lambda x: p if x>=p else x)\n",
    "def setTratamientoCotasInf(base,var_T,q):\n",
    "    p=base[var_T].quantile(q=q)\n",
    "    qq=(q-0.05) if (q-0.05>0) else q\n",
    "    base[f\"{var_T}\"]=base[var_T].apply(lambda x: p if x<=p else x)"
   ]
  },
  {
   "cell_type": "code",
   "execution_count": 8,
   "metadata": {},
   "outputs": [],
   "source": [
    "setTratamientoCotasSup(df,'Edad',0.99)\n",
    "setTratamientoCotasInf(df,'Edad',0.01)\n",
    "\n",
    "setTratamientoCotasSup(df,'Mto_ingreso_mensual',0.99)\n",
    "setTratamientoCotasInf(df,'Mto_ingreso_mensual',0.02)\n",
    "\n",
    "setTratamientoCotasSup(df,'Prct_uso_tc',0.97)\n",
    "\n",
    "setTratamientoCotasSup(df,'Prct_deuda_vs_ingresos',0.80)"
   ]
  },
  {
   "cell_type": "code",
   "execution_count": 9,
   "metadata": {},
   "outputs": [
    {
     "name": "stdout",
     "output_type": "stream",
     "text": [
      "Mto_ingreso_mensual(Mode: 5000.0)\n",
      "Nro_dependiente(Mode: 0.0)\n"
     ]
    }
   ],
   "source": [
    "col_nulls = ['Mto_ingreso_mensual','Nro_dependiente']\n",
    "\n",
    "def setTratamientoMissingsVarContinua(base,var_T):\n",
    "    imputer=base[var_T].mode().values[0]\n",
    "    base[f\"{var_T}\"]=base[var_T].fillna(imputer)\n",
    "    print(f\"{var_T}(Mode: {imputer})\")\n",
    "\n",
    "for i in col_nulls:\n",
    "    setTratamientoMissingsVarContinua(df,i)"
   ]
  },
  {
   "cell_type": "code",
   "execution_count": 10,
   "metadata": {},
   "outputs": [],
   "source": [
    "df_miss = pd.DataFrame({'count': df.isnull().sum(), 'percentage': df.isnull().mean()*100})\n",
    "df_miss.to_csv(path+'/reports/2nd_missing_report.csv')"
   ]
  },
  {
   "cell_type": "code",
   "execution_count": 12,
   "metadata": {},
   "outputs": [],
   "source": [
    "X,y = df.drop(columns=[target]),df[target]"
   ]
  },
  {
   "cell_type": "code",
   "execution_count": 13,
   "metadata": {},
   "outputs": [],
   "source": [
    "from sklearn.model_selection import train_test_split\n",
    "X_train, X_test, y_train, y_test = train_test_split(X, y, test_size=0.3,stratify=y, random_state=0)"
   ]
  },
  {
   "cell_type": "code",
   "execution_count": 14,
   "metadata": {},
   "outputs": [],
   "source": [
    "df_train = pd.concat([X_train,y_train],axis=1)"
   ]
  },
  {
   "cell_type": "markdown",
   "metadata": {},
   "source": [
    "# Balanceo de datos"
   ]
  },
  {
   "cell_type": "code",
   "execution_count": 15,
   "metadata": {},
   "outputs": [],
   "source": [
    "# Oversampling\n",
    "count_class_0, count_class_1 = df_train.Default.value_counts()\n",
    "\n",
    "df_class_0 = df_train[df_train['Default'] == 0]\n",
    "df_class_1 = df_train[df_train['Default'] == 1]\n",
    "\n",
    "df_class_1_over = df_class_1.sample(count_class_0, replace=True)\n",
    "df_train_over = pd.concat([df_class_0, df_class_1_over], axis=0)"
   ]
  },
  {
   "cell_type": "code",
   "execution_count": 16,
   "metadata": {},
   "outputs": [],
   "source": [
    "# Undersampling\n",
    "df_class_0_under = df_class_0.sample(count_class_1)\n",
    "df_train_under = pd.concat([df_class_0_under, df_class_1], axis=0)"
   ]
  },
  {
   "cell_type": "code",
   "execution_count": 21,
   "metadata": {},
   "outputs": [
    {
     "name": "stdout",
     "output_type": "stream",
     "text": [
      "Accuracy DATOS ORIGINALES: 89.54%\n",
      "Log Loss: 3.7701661445016548\n"
     ]
    }
   ],
   "source": [
    "# Modelo de árbol de decision\n",
    "model = DecisionTreeClassifier(random_state=0)\n",
    "# Entrenando el modelo\n",
    "model.fit(X_train, y_train)\n",
    "# Obteniendo la predicción\n",
    "y_pred = model.predict(X_test)\n",
    "\n",
    "accuracy = accuracy_score(y_test, y_pred)\n",
    "print(\"Accuracy DATOS ORIGINALES: %.2f%%\" % (accuracy * 100.0))\n",
    "\n",
    "ll = log_loss(y_test, y_pred)\n",
    "print(\"Log Loss: {}\".format(ll))"
   ]
  },
  {
   "cell_type": "code",
   "execution_count": 22,
   "metadata": {},
   "outputs": [
    {
     "name": "stdout",
     "output_type": "stream",
     "text": [
      "Confusion matrix:\n",
      "[[39447  2545]\n",
      " [ 2162   846]]\n"
     ]
    }
   ],
   "source": [
    "confusion = confusion_matrix(y_test, y_pred)\n",
    "print(\"Confusion matrix:\\n{}\".format(confusion))"
   ]
  },
  {
   "cell_type": "code",
   "execution_count": 23,
   "metadata": {},
   "outputs": [
    {
     "name": "stdout",
     "output_type": "stream",
     "text": [
      "\tIndicadores:\n",
      "\t1. Accuracy: 0.895\n",
      "\t2. Precision: 0.249\n",
      "\t3. Recall: 0.281\n",
      "\t4. F1: 0.264\n",
      "\t5. AUC: 0.610\n",
      "\t6. Gini: 0.221\n"
     ]
    }
   ],
   "source": [
    "# Calculando indicadores\n",
    "print(\"\\tIndicadores:\")\n",
    "print(\"\\t1. Accuracy: %1.3f\" % accuracy_score(y_test, y_pred))\n",
    "print(\"\\t2. Precision: %1.3f\" % precision_score(y_test, y_pred))\n",
    "print(\"\\t3. Recall: %1.3f\" % recall_score(y_test, y_pred))\n",
    "print(\"\\t4. F1: %1.3f\" % f1_score(y_test, y_pred))\n",
    "print(\"\\t5. AUC: %1.3f\" % roc_auc_score(y_test, y_pred))\n",
    "print(\"\\t6. Gini: %1.3f\" % (2*roc_auc_score(y_test, y_pred)-1))"
   ]
  }
 ],
 "metadata": {
  "kernelspec": {
   "display_name": "proyecto1",
   "language": "python",
   "name": "python3"
  },
  "language_info": {
   "codemirror_mode": {
    "name": "ipython",
    "version": 3
   },
   "file_extension": ".py",
   "mimetype": "text/x-python",
   "name": "python",
   "nbconvert_exporter": "python",
   "pygments_lexer": "ipython3",
   "version": "3.10.12"
  }
 },
 "nbformat": 4,
 "nbformat_minor": 2
}
